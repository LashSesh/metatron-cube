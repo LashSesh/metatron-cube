
{
 "cells": [
  {
   "cell_type": "code",
   "execution_count": null,
   "metadata": {},
   "outputs": [],
   "source": [
    "from src.graph import MetatronCubeGraph\n",
    "from src.visualization import plot_metatron_cube_3d\n",
    "g = MetatronCubeGraph()\n",
    "plot_metatron_cube_3d(g)"
   ]
  }
 ],
 "metadata": {},
 "nbformat": 4,
 "nbformat_minor": 2
}
