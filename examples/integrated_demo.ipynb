
{
 "cells": [
  {
   "cell_type": "markdown",
   "metadata": {},
   "source": [
    "# MasterAgent Blueprint-Demo\n",
    "End-to-End-Workflow: Input → SeraphicFeedback → SpiralMemory → GabrielCells → Mandorla → Decision"
   ]
  },
  {
   "cell_type": "code",
   "execution_count": null,
   "metadata": {},
   "outputs": [],
   "source": [
    "from src.master_agent import MasterAgent\n",
    "agent = MasterAgent(n_cells=4)\n",
    "result = agent.process(['METATRON', 5.0, 'QLOGIC', [2,4,6]])\n",
    "print(result)"
   ]
  }
 ],
 "metadata": {},
 "nbformat": 4,
 "nbformat_minor": 2
}
